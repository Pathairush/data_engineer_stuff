{
 "cells": [
  {
   "cell_type": "code",
   "execution_count": 6,
   "metadata": {
    "editable": true
   },
   "outputs": [],
   "source": [
    "from pyspark.sql import SparkSession\n",
    "spark = SparkSession.builder\\\n",
    "    .config(\"spark.jars.packages\",\"saurfang:spark-sas7bdat:2.0.0-s_2.11,io.delta:delta-core_2.11:0.6.1\")\\\n",
    "    .config(\"spark.sql.extensions\", \"io.delta.sql.DeltaSparkSessionExtension\")\\\n",
    "    .config(\"spark.sql.catalog.spark_catalog\", \"org.apache.spark.sql.delta.catalog.DeltaCatalog\")\\\n",
    "    .enableHiveSupport().getOrCreate()"
   ]
  },
  {
   "cell_type": "code",
   "execution_count": 7,
   "metadata": {
    "editable": true
   },
   "outputs": [],
   "source": [
    "def check_data(path):\n",
    "    df = spark.read.format('delta').load(path)\n",
    "    return df.count(), df.show(3)"
   ]
  },
  {
   "cell_type": "code",
   "execution_count": 8,
   "metadata": {
    "editable": true
   },
   "outputs": [
    {
     "name": "stdout",
     "output_type": "stream",
     "text": [
      "+-------+-----+------+------+------+-------+-------+-------+-------+-------+------+-------+-----+--------+--------+-----+-------+-------+-------+-------+-------+--------+------+------+-------+--------------+-----+--------+--------------------+\n",
      "|  cicid|i94yr|i94mon|i94cit|i94res|i94port|arrdate|i94mode|i94addr|depdate|i94bir|i94visa|count|dtadfile|visapost|occup|entdepa|entdepd|entdepu|matflag|biryear| dtaddto|gender|insnum|airline|        admnum|fltno|visatype| load_data_timestamp|\n",
      "+-------+-----+------+------+------+-------+-------+-------+-------+-------+------+-------+-----+--------+--------+-----+-------+-------+-------+-------+-------+--------+------+------+-------+--------------+-----+--------+--------------------+\n",
      "|4664259| 2016|     5| 213.0| 213.0|    HOU|20597.0|    1.0|     TX|20621.0|  55.0|    2.0|  1.0|20160523|     HYD| null|      G|      O|   null|      M|   1961|11222016|     M|  null|     QR|9.718120793E10|00713|      B2|2021-04-13 07:18:...|\n",
      "|4664260| 2016|     5| 213.0| 213.0|    HOU|20597.0|    1.0|     TX|20621.0|  51.0|    2.0|  1.0|20160523|     HYD| null|      G|      O|   null|      M|   1965|11222016|     M|  null|     QR|9.718129403E10|00713|      B2|2021-04-13 07:18:...|\n",
      "|4664261| 2016|     5| 213.0| 213.0|    HOU|20597.0|    1.0|     TX|20641.0|  24.0|    2.0|  1.0|20160523|     HYD| null|      G|      O|   null|      M|   1992|11222016|     F|  null|     QR|9.717972563E10|00713|      B2|2021-04-13 07:18:...|\n",
      "+-------+-----+------+------+------+-------+-------+-------+-------+-------+------+-------+-----+--------+--------+-----+-------+-------+-------+-------+-------+--------+------+------+-------+--------------+-----+--------+--------------------+\n",
      "only showing top 3 rows\n",
      "\n"
     ]
    },
    {
     "data": {
      "text/plain": [
       "(3444249, None)"
      ]
     },
     "execution_count": 8,
     "metadata": {},
     "output_type": "execute_result"
    }
   ],
   "source": [
    "check_data('./output/staging_fact')"
   ]
  },
  {
   "cell_type": "code",
   "execution_count": 9,
   "metadata": {
    "editable": true
   },
   "outputs": [
    {
     "name": "stdout",
     "output_type": "stream",
     "text": [
      "+--------------+-------+----+-----+------------+---------------+-------+---------+---------+----------------+--------------+---------+----------+--------------------+\n",
      "|            id|  cicid|year|month|arrived_date|departured_date|airline|flight_no|visa_type|immigration_port|transportation|visa_code|state_code| load_data_timestamp|\n",
      "+--------------+-------+----+-----+------------+---------------+-------+---------+---------+----------------+--------------+---------+----------+--------------------+\n",
      "|1000038_2016_5|1000038|2016|    5|  2016-05-05|     2016-05-29|     LA|    02514|       B2|       MIAMI, FL|           Air| Pleasure|        CA|2021-04-13 07:19:...|\n",
      "| 100005_2016_5| 100005|2016|    5|  2016-05-01|     2016-05-04|     YX|    04400|       B2|       MIAMI, FL|           Air| Pleasure|        FL|2021-04-13 07:19:...|\n",
      "|1000372_2016_5|1000372|2016|    5|  2016-05-05|     2016-05-18|     AV|    00962|       B2|       MIAMI, FL|           Air| Pleasure|        FL|2021-04-13 07:19:...|\n",
      "+--------------+-------+----+-----+------------+---------------+-------+---------+---------+----------------+--------------+---------+----------+--------------------+\n",
      "only showing top 3 rows\n",
      "\n"
     ]
    },
    {
     "data": {
      "text/plain": [
       "(3444249, None)"
      ]
     },
     "execution_count": 9,
     "metadata": {},
     "output_type": "execute_result"
    }
   ],
   "source": [
    "check_data('./output/fact_table')"
   ]
  },
  {
   "cell_type": "code",
   "execution_count": 10,
   "metadata": {
    "editable": true
   },
   "outputs": [
    {
     "name": "stdout",
     "output_type": "stream",
     "text": [
      "+-----+----+-----+----------+------+------------+-----------------+--------------------+\n",
      "|cicid|year|month|birth_year|gender|born_country|residence_country| load_data_timestamp|\n",
      "+-----+----+-----+----------+------+------------+-----------------+--------------------+\n",
      "|  114|2016|    5|      1964|     F|     austria|          austria|2021-04-13 07:22:...|\n",
      "|  173|2016|    5|      1985|     F|     austria|          austria|2021-04-13 07:22:...|\n",
      "|  220|2016|    5|      1995|     F|     austria|          austria|2021-04-13 07:22:...|\n",
      "+-----+----+-----+----------+------+------------+-----------------+--------------------+\n",
      "only showing top 3 rows\n",
      "\n"
     ]
    },
    {
     "data": {
      "text/plain": [
       "(3444249, None)"
      ]
     },
     "execution_count": 10,
     "metadata": {},
     "output_type": "execute_result"
    }
   ],
   "source": [
    "check_data('./output/dim_user')"
   ]
  },
  {
   "cell_type": "code",
   "execution_count": 11,
   "metadata": {
    "editable": true
   },
   "outputs": [
    {
     "name": "stdout",
     "output_type": "stream",
     "text": [
      "+----------+----+-----+---+------------+-----------+--------------------+\n",
      "|      date|year|month|day|week_of_year|day_of_week| load_data_timestamp|\n",
      "+----------+----+-----+---+------------+-----------+--------------------+\n",
      "|2016-04-26|2016|    4| 26|          17|          3|2021-04-13 07:24:...|\n",
      "|2016-05-13|2016|    5| 13|          19|          6|2021-04-13 07:24:...|\n",
      "|2016-05-31|2016|    5| 31|          22|          3|2021-04-13 07:24:...|\n",
      "+----------+----+-----+---+------------+-----------+--------------------+\n",
      "only showing top 3 rows\n",
      "\n"
     ]
    },
    {
     "data": {
      "text/plain": [
       "(189, None)"
      ]
     },
     "execution_count": 11,
     "metadata": {},
     "output_type": "execute_result"
    }
   ],
   "source": [
    "check_data('./output/dim_date')"
   ]
  },
  {
   "cell_type": "code",
   "execution_count": 12,
   "metadata": {
    "editable": true
   },
   "outputs": [
    {
     "name": "stdout",
     "output_type": "stream",
     "text": [
      "+----------+--------------------+----------+---------------+-----------------+----------------+------------------+------------+---------------------+-----------------------------+--------+----------------------+---------------+---------+--------------------+\n",
      "|state_code|               state|median_age|male_population|female_population|total_population|number_of_veterans|foreign_born|median_household_size|american_indian_alaska_native|   asian|black_african_american|hispanic_latino|    white| load_data_timestamp|\n",
      "+----------+--------------------+----------+---------------+-----------------+----------------+------------------+------------+---------------------+-----------------------------+--------+----------------------+---------------+---------+--------------------+\n",
      "|        DC|District of Columbia|      33.8|       319705.0|         352523.0|        672228.0|           25963.0|     95117.0|                 2.24|                       6130.0| 35072.0|              328786.0|        71129.0| 285402.0|2021-04-13 07:24:...|\n",
      "|        ND|        North Dakota|      30.7|        95235.0|          94255.0|        189490.0|           10299.0|     11492.0|                 2.11|                       7142.0|  5576.0|                8177.0|         5234.0| 172068.0|2021-04-13 07:24:...|\n",
      "|        WA|          Washington|      36.3|      1245605.0|        1254502.0|       2500107.0|          153126.0|    440962.0|                 2.49|                      60248.0|346995.0|              187584.0|       324070.0|1913484.0|2021-04-13 07:24:...|\n",
      "+----------+--------------------+----------+---------------+-----------------+----------------+------------------+------------+---------------------+-----------------------------+--------+----------------------+---------------+---------+--------------------+\n",
      "only showing top 3 rows\n",
      "\n"
     ]
    },
    {
     "data": {
      "text/plain": [
       "(49, None)"
      ]
     },
     "execution_count": 12,
     "metadata": {},
     "output_type": "execute_result"
    }
   ],
   "source": [
    "check_data('./output/dim_state')"
   ]
  },
  {
   "cell_type": "code",
   "execution_count": 13,
   "metadata": {
    "editable": true
   },
   "outputs": [
    {
     "name": "stdout",
     "output_type": "stream",
     "text": [
      "+--------------------+------------------+--------+---------+--------------------+\n",
      "|             country|          avg_temp|latitude|longitude| load_data_timestamp|\n",
      "+--------------------+------------------+--------+---------+--------------------+\n",
      "|congo (democratic...|23.240345757415405|   4.02S|   16.88E|2021-04-13 07:25:...|\n",
      "|bosnia and herzeg...| 10.44995912823751|  44.20N|   17.89E|2021-04-13 07:25:...|\n",
      "|united arab emirates|26.572680548234114|  24.92N|   54.98E|2021-04-13 07:25:...|\n",
      "+--------------------+------------------+--------+---------+--------------------+\n",
      "only showing top 3 rows\n",
      "\n"
     ]
    },
    {
     "data": {
      "text/plain": [
       "(159, None)"
      ]
     },
     "execution_count": 13,
     "metadata": {},
     "output_type": "execute_result"
    }
   ],
   "source": [
    "check_data('./output/dim_country')"
   ]
  }
 ],
 "metadata": {
  "kernelspec": {
   "display_name": "Python 3",
   "language": "python",
   "name": "python3"
  },
  "language_info": {
   "codemirror_mode": {
    "name": "ipython",
    "version": 3
   },
   "file_extension": ".py",
   "mimetype": "text/x-python",
   "name": "python",
   "nbconvert_exporter": "python",
   "pygments_lexer": "ipython3",
   "version": "3.6.3"
  }
 },
 "nbformat": 4,
 "nbformat_minor": 4
}
